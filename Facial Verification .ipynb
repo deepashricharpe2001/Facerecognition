{
 "cells": [
  {
   "cell_type": "code",
   "execution_count": 3,
   "id": "1d3db666-e7b1-4008-99bf-8a320506f163",
   "metadata": {},
   "outputs": [],
   "source": [
    "import cv2\n",
    "import os\n",
    "import random\n",
    "import numpy as np\n",
    "from matplotlib import pyplot as plt\n",
    "import uuid"
   ]
  },
  {
   "cell_type": "code",
   "execution_count": 3,
   "id": "43e28440-7c38-400f-8631-22e16688eb8e",
   "metadata": {},
   "outputs": [],
   "source": [
    "from tensorflow.keras.models import Model\n",
    "from tensorflow.keras.layers import Layer, Conv2D, Dense, MaxPooling2D, Input, Flatten\n",
    "import tensorflow as tf"
   ]
  },
  {
   "cell_type": "code",
   "execution_count": 5,
   "id": "d6099356-8ba1-4f98-9adb-4054cc4be1db",
   "metadata": {},
   "outputs": [],
   "source": [
    "# Avoid OOM errors by setting GPU Memory Consumption Growth\n",
    "gpus = tf.config.experimental.list_physical_devices('GPU')\n",
    "for gpu in gpus: \n",
    "    tf.config.experimental.set_memory_growth(gpu, True)"
   ]
  },
  {
   "cell_type": "code",
   "execution_count": 3,
   "id": "dc469c09-ee80-465c-8d8a-b961a49a2e47",
   "metadata": {},
   "outputs": [],
   "source": [
    "# Setup paths\n",
    "POS_PATH = os.path.join('data', 'positive')\n",
    "NEG_PATH = os.path.join('data', 'negative')\n",
    "ANC_PATH = os.path.join('data', 'anchor')"
   ]
  },
  {
   "cell_type": "code",
   "execution_count": 5,
   "id": "a7a0bfdc-361d-412e-9e20-5ed62d1f656f",
   "metadata": {},
   "outputs": [
    {
     "ename": "FileExistsError",
     "evalue": "[WinError 183] Cannot create a file when that file already exists: 'data\\\\positive'",
     "output_type": "error",
     "traceback": [
      "\u001b[1;31m---------------------------------------------------------------------------\u001b[0m",
      "\u001b[1;31mFileExistsError\u001b[0m                           Traceback (most recent call last)",
      "Cell \u001b[1;32mIn[5], line 2\u001b[0m\n\u001b[0;32m      1\u001b[0m \u001b[38;5;66;03m# Make the directories\u001b[39;00m\n\u001b[1;32m----> 2\u001b[0m \u001b[43mos\u001b[49m\u001b[38;5;241;43m.\u001b[39;49m\u001b[43mmakedirs\u001b[49m\u001b[43m(\u001b[49m\u001b[43mPOS_PATH\u001b[49m\u001b[43m)\u001b[49m\n\u001b[0;32m      3\u001b[0m os\u001b[38;5;241m.\u001b[39mmakedirs(NEG_PATH)\n\u001b[0;32m      4\u001b[0m os\u001b[38;5;241m.\u001b[39mmakedirs(ANC_PATH)\n",
      "File \u001b[1;32m<frozen os>:225\u001b[0m, in \u001b[0;36mmakedirs\u001b[1;34m(name, mode, exist_ok)\u001b[0m\n",
      "\u001b[1;31mFileExistsError\u001b[0m: [WinError 183] Cannot create a file when that file already exists: 'data\\\\positive'"
     ]
    }
   ],
   "source": [
    "# Make the directories\n",
    "os.makedirs(POS_PATH)\n",
    "os.makedirs(NEG_PATH)\n",
    "os.makedirs(ANC_PATH)"
   ]
  },
  {
   "cell_type": "code",
   "execution_count": 41,
   "id": "db4d78dd-a6d8-40bd-a2c5-d9c3e71a887c",
   "metadata": {},
   "outputs": [],
   "source": [
    "# http://vis-www.cs.umass.edu/lfw/\n"
   ]
  },
  {
   "cell_type": "code",
   "execution_count": 13,
   "id": "faef2fc3-1db4-4e3c-a0ac-cca901e294c4",
   "metadata": {},
   "outputs": [],
   "source": [
    "# Uncompress Tar GZ Labelled Faces in the Wild Dataset\n",
    "!tar -xf lfw.tgz"
   ]
  },
  {
   "cell_type": "code",
   "execution_count": 57,
   "id": "67bc744c-b9e3-486a-a40b-ba05bf7bcf8e",
   "metadata": {},
   "outputs": [],
   "source": [
    "# Move LFW Images to the following repository data/negative\n",
    "for directory in os.listdir('lfw'):\n",
    "    for file in os.listdir(os.path.join('lfw', directory)):\n",
    "        EX_PATH = os.path.join('lfw', directory, file)\n",
    "        NEW_PATH = os.path.join(NEG_PATH, file)\n",
    "        os.replace(EX_PATH, NEW_PATH)"
   ]
  },
  {
   "cell_type": "code",
   "execution_count": 7,
   "id": "71b2c424-0127-4622-a940-609953c0856d",
   "metadata": {},
   "outputs": [
    {
     "data": {
      "text/plain": [
       "'data\\\\anchor\\\\74be247b-a6ac-11ef-b871-b3920488bb3a.jpg'"
      ]
     },
     "execution_count": 7,
     "metadata": {},
     "output_type": "execute_result"
    }
   ],
   "source": [
    "os.path.join(ANC_PATH,'{}.jpg'.format(uuid.uuid1()))"
   ]
  },
  {
   "cell_type": "code",
   "execution_count": 1,
   "id": "39218331-4e29-4fc7-b7ee-e741e20fda0a",
   "metadata": {},
   "outputs": [
    {
     "ename": "NameError",
     "evalue": "name 'os' is not defined",
     "output_type": "error",
     "traceback": [
      "\u001b[1;31m---------------------------------------------------------------------------\u001b[0m",
      "\u001b[1;31mNameError\u001b[0m                                 Traceback (most recent call last)",
      "Cell \u001b[1;32mIn[1], line 12\u001b[0m\n\u001b[0;32m     10\u001b[0m \u001b[38;5;66;03m#collect anchors \u001b[39;00m\n\u001b[0;32m     11\u001b[0m \u001b[38;5;28;01mif\u001b[39;00m cv2\u001b[38;5;241m.\u001b[39mwaitKey(\u001b[38;5;241m1\u001b[39m) \u001b[38;5;241m&\u001b[39m \u001b[38;5;241m0xFF\u001b[39m \u001b[38;5;241m==\u001b[39m \u001b[38;5;28mord\u001b[39m(\u001b[38;5;124m'\u001b[39m\u001b[38;5;124ma\u001b[39m\u001b[38;5;124m'\u001b[39m):\n\u001b[1;32m---> 12\u001b[0m     imgname \u001b[38;5;241m=\u001b[39m \u001b[43mos\u001b[49m\u001b[38;5;241m.\u001b[39mpath\u001b[38;5;241m.\u001b[39mjoin(ANC_PATH,\u001b[38;5;124m'\u001b[39m\u001b[38;5;132;01m{}\u001b[39;00m\u001b[38;5;124m.jpg\u001b[39m\u001b[38;5;124m'\u001b[39m\u001b[38;5;241m.\u001b[39mformat(uuid\u001b[38;5;241m.\u001b[39muuid1()))\u001b[38;5;66;03m#crate unique path\u001b[39;00m\n\u001b[0;32m     13\u001b[0m     cv2\u001b[38;5;241m.\u001b[39mimwrite(imgname,frame) \u001b[38;5;66;03m# write out anchore image \u001b[39;00m\n\u001b[0;32m     15\u001b[0m \u001b[38;5;66;03m#collect positive \u001b[39;00m\n",
      "\u001b[1;31mNameError\u001b[0m: name 'os' is not defined"
     ]
    }
   ],
   "source": [
    "import cv2\n",
    "\n",
    "cap = cv2.VideoCapture(0)  # Adjust the camera index as needed (4 may not work for all systems)\n",
    "\n",
    "while cap.isOpened():\n",
    "    ret, frame = cap.read()\n",
    "    #cut down frame to 250*250px\n",
    "    frame=frame[120:120+250,200:200+250, :]\n",
    "\n",
    "    #collect anchors \n",
    "    if cv2.waitKey(1) & 0xFF == ord('a'):\n",
    "        imgname = os.path.join(ANC_PATH,'{}.jpg'.format(uuid.uuid1()))#crate unique path\n",
    "        cv2.imwrite(imgname,frame) # write out anchore image \n",
    "    \n",
    "    #collect positive \n",
    "    if cv2.waitKey(1) & 0xFF == ord('p'):\n",
    "       imgname = os.path.join(POS_PATH,'{}.jpg'.format(uuid.uuid1()))#crate unique path\n",
    "       cv2.imwrite(imgname,frame) # write out positive image \n",
    "    \n",
    "    if not ret:  # Check if the frame was captured successfully\n",
    "        print(\"Failed to capture frame. Exiting...\")\n",
    "        break\n",
    "\n",
    "    # Show the image back on the screen\n",
    "    cv2.imshow(\"Image Collection\", frame)\n",
    "\n",
    "    # Exit the loop when 'q' is pressed\n",
    "    if cv2.waitKey(1) & 0xFF == ord('q'):\n",
    "        break\n",
    "\n",
    "cap.release()  # Release the camera resource\n",
    "cv2.destroyAllWindows()  # Close all OpenCV windows"
   ]
  },
  {
   "cell_type": "code",
   "execution_count": 9,
   "id": "f3742195-eee2-40c7-b137-a0e9548547cc",
   "metadata": {},
   "outputs": [],
   "source": [
    "import cv2\n",
    "import os\n",
    "import uuid\n",
    "import threading\n",
    "import time\n",
    "\n",
    "# Set paths for saving images\n",
    "ANC_PATH = \"anchors\"  # Modify this to your anchors folder path\n",
    "POS_PATH = \"positives\"  # Modify this to your positives folder path\n",
    "os.makedirs(ANC_PATH, exist_ok=True)\n",
    "os.makedirs(POS_PATH, exist_ok=True)\n",
    "\n",
    "# Helper function to save image asynchronously\n",
    "def save_image(img, path):\n",
    "    img_name = os.path.join(path, '{}.jpg'.format(str(uuid.uuid1())))\n",
    "    cv2.imwrite(img_name, img)  # Save image in JPEG format\n",
    "\n",
    "# Open the camera\n",
    "cap = cv2.VideoCapture(0)\n",
    "\n",
    "if not cap.isOpened():\n",
    "    print(\"Failed to open camera!\")\n",
    "    exit()\n",
    "\n",
    "while cap.isOpened():\n",
    "    ret, frame = cap.read()\n",
    "    if not ret:\n",
    "        print(\"Failed to capture frame. Exiting...\")\n",
    "        break\n",
    "\n",
    "    # Crop the frame (resize to 250x250px)\n",
    "    frame = frame[120:120+250, 200:200+250, :]\n",
    "\n",
    "    # Show the image back on the screen\n",
    "    cv2.imshow(\"Image Collection\", frame)\n",
    "\n",
    "    # Collect anchors\n",
    "    if cv2.waitKey(1) & 0xFF == ord('a'):\n",
    "        # Use threading to save the image without blocking the frame capture\n",
    "        threading.Thread(target=save_image, args=(frame, ANC_PATH)).start()\n",
    "\n",
    "    # Collect positives\n",
    "    if cv2.waitKey(1) & 0xFF == ord('p'):\n",
    "        # Use threading to save the image without blocking the frame capture\n",
    "        threading.Thread(target=save_image, args=(frame, POS_PATH)).start()\n",
    "\n",
    "    # Exit the loop when 'q' is pressed\n",
    "    if cv2.waitKey(1) & 0xFF == ord('q'):\n",
    "        break\n",
    "\n",
    "# Release the camera resource and close windows\n",
    "cap.release()\n",
    "cv2.destroyAllWindows()\n"
   ]
  },
  {
   "cell_type": "code",
   "execution_count": 82,
   "id": "a0444432-791d-4530-a4c6-75d1a1d44e22",
   "metadata": {},
   "outputs": [
    {
     "data": {
      "text/plain": [
       "\u001b[1;31mDocstring:\u001b[0m\n",
       "waitKey([, delay]) -> retval\n",
       ".   @brief Waits for a pressed key.\n",
       ".   \n",
       ".   The function waitKey waits for a key event infinitely (when \\f$\\texttt{delay}\\leq 0\\f$ ) or for delay\n",
       ".   milliseconds, when it is positive. Since the OS has a minimum time between switching threads, the\n",
       ".   function will not wait exactly delay ms, it will wait at least delay ms, depending on what else is\n",
       ".   running on your computer at that time. It returns the code of the pressed key or -1 if no key was\n",
       ".   pressed before the specified time had elapsed. To check for a key press but not wait for it, use\n",
       ".   #pollKey.\n",
       ".   \n",
       ".   @note The functions #waitKey and #pollKey are the only methods in HighGUI that can fetch and handle\n",
       ".   GUI events, so one of them needs to be called periodically for normal event processing unless\n",
       ".   HighGUI is used within an environment that takes care of event processing.\n",
       ".   \n",
       ".   @note The function only works if there is at least one HighGUI window created and the window is\n",
       ".   active. If there are several HighGUI windows, any of them can be active.\n",
       ".   \n",
       ".   @param delay Delay in milliseconds. 0 is the special value that means \"forever\".\n",
       "\u001b[1;31mType:\u001b[0m      builtin_function_or_method"
      ]
     },
     "metadata": {},
     "output_type": "display_data"
    }
   ],
   "source": [
    "cv2.waitKey??"
   ]
  },
  {
   "cell_type": "code",
   "execution_count": 5,
   "id": "91d1a570-dc00-4c2b-b313-051b2ccbb764",
   "metadata": {},
   "outputs": [
    {
     "ename": "NameError",
     "evalue": "name 'frame' is not defined",
     "output_type": "error",
     "traceback": [
      "\u001b[1;31m---------------------------------------------------------------------------\u001b[0m",
      "\u001b[1;31mNameError\u001b[0m                                 Traceback (most recent call last)",
      "Cell \u001b[1;32mIn[5], line 1\u001b[0m\n\u001b[1;32m----> 1\u001b[0m plt\u001b[38;5;241m.\u001b[39mimshow(\u001b[43mframe\u001b[49m[\u001b[38;5;241m120\u001b[39m:\u001b[38;5;241m120\u001b[39m\u001b[38;5;241m+\u001b[39m\u001b[38;5;241m250\u001b[39m,\u001b[38;5;241m200\u001b[39m:\u001b[38;5;241m200\u001b[39m\u001b[38;5;241m+\u001b[39m\u001b[38;5;241m250\u001b[39m, :\u001b[38;5;241m1\u001b[39m])\n",
      "\u001b[1;31mNameError\u001b[0m: name 'frame' is not defined"
     ]
    }
   ],
   "source": [
    "plt.imshow(frame[120:120+250,200:200+250, :1])\n",
    "\n",
    "    "
   ]
  },
  {
   "cell_type": "code",
   "execution_count": 110,
   "id": "6558d531-6692-4e42-8928-6eeb75a65303",
   "metadata": {},
   "outputs": [
    {
     "data": {
      "text/plain": [
       "(480, 640, 3)"
      ]
     },
     "execution_count": 110,
     "metadata": {},
     "output_type": "execute_result"
    }
   ],
   "source": [
    "frame.shape"
   ]
  },
  {
   "cell_type": "code",
   "execution_count": null,
   "id": "2302347f-17c6-46f2-bec5-f3dceed6529d",
   "metadata": {},
   "outputs": [],
   "source": []
  }
 ],
 "metadata": {
  "kernelspec": {
   "display_name": "Python 3 (ipykernel)",
   "language": "python",
   "name": "python3"
  },
  "language_info": {
   "codemirror_mode": {
    "name": "ipython",
    "version": 3
   },
   "file_extension": ".py",
   "mimetype": "text/x-python",
   "name": "python",
   "nbconvert_exporter": "python",
   "pygments_lexer": "ipython3",
   "version": "3.12.4"
  }
 },
 "nbformat": 4,
 "nbformat_minor": 5
}
